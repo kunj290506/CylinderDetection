{
 "cells": [
  {
   "cell_type": "code",
   "execution_count": 1,
   "id": "8c1904d8-edfd-4da4-90c4-fc32e7484edd",
   "metadata": {},
   "outputs": [
    {
     "name": "stdout",
     "output_type": "stream",
     "text": [
      "Done! Extracted 2827 frames to: C:\\Users\\kunjc\\Downloads\\gas\\INDANE_15KG\n"
     ]
    }
   ],
   "source": [
    "import cv2\n",
    "import os\n",
    "\n",
    "# Set video path and output folder\n",
    "video_path = r\"C:\\Users\\kunjc\\Downloads\\IMG_0216.MOV\"\n",
    "output_folder = r\"C:\\Users\\kunjc\\Downloads\\gas\\INDANE_15KG\"\n",
    "\n",
    "# Create output directory if it doesn't exist\n",
    "os.makedirs(output_folder, exist_ok=True)\n",
    "\n",
    "# Load the video\n",
    "cap = cv2.VideoCapture(video_path)\n",
    "\n",
    "# Check if video opened successfully\n",
    "if not cap.isOpened():\n",
    "    print(\"Error: Could not open video.\")\n",
    "else:\n",
    "    frame_count = 0\n",
    "    while True:\n",
    "        ret, frame = cap.read()\n",
    "        if not ret:\n",
    "            break  # No more frames\n",
    "        frame_filename = os.path.join(output_folder, f\"frame_{frame_count:05d}.jpg\")\n",
    "        cv2.imwrite(frame_filename, frame)\n",
    "        frame_count += 1\n",
    "\n",
    "    print(f\"Done! Extracted {frame_count} frames to: {output_folder}\")\n",
    "\n",
    "# Release the video capture object\n",
    "cap.release()\n"
   ]
  },
  {
   "cell_type": "code",
   "execution_count": null,
   "id": "0c03a4c6-281b-4b8c-b00a-5b6e43d9d4fb",
   "metadata": {},
   "outputs": [],
   "source": []
  }
 ],
 "metadata": {
  "kernelspec": {
   "display_name": "Python 3 (ipykernel)",
   "language": "python",
   "name": "python3"
  },
  "language_info": {
   "codemirror_mode": {
    "name": "ipython",
    "version": 3
   },
   "file_extension": ".py",
   "mimetype": "text/x-python",
   "name": "python",
   "nbconvert_exporter": "python",
   "pygments_lexer": "ipython3",
   "version": "3.12.7"
  }
 },
 "nbformat": 4,
 "nbformat_minor": 5
}
